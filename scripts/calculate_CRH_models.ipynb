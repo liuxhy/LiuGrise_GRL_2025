{
 "cells": [
  {
   "cell_type": "markdown",
   "metadata": {},
   "source": [
    "#### This notebook processes and analyzes monthly vertical fluxes data (rld, rldcs, rlu, rlucs) from Atmospheric Model Intercomparison Project (AMIP) simulations to compute vertical profiles of Cloud Radiative Heating rate (CRH, K/day) across multiple climate models."
   ]
  },
  {
   "cell_type": "markdown",
   "metadata": {},
   "source": [
    "import packages"
   ]
  },
  {
   "cell_type": "code",
   "execution_count": 2,
   "metadata": {},
   "outputs": [],
   "source": [
    "import numpy as np\n",
    "import netCDF4 as nc\n",
    "import pandas as pd\n",
    "import matplotlib.pyplot as plt\n",
    "from scipy.stats import linregress\n",
    "import xarray as xr\n",
    "import pickle\n",
    "import os\n",
    "import time\n",
    "import glob\n",
    "from utils import height2pressure"
   ]
  },
  {
   "cell_type": "markdown",
   "metadata": {},
   "source": [
    "Calculating ACRE at each level from vertical fluxes using Eq. (3) in the supplement materials of Liu and Grise (2025)"
   ]
  },
  {
   "cell_type": "code",
   "execution_count": 13,
   "metadata": {},
   "outputs": [
    {
     "name": "stdout",
     "output_type": "stream",
     "text": [
      "MRI-ESM2-0\n"
     ]
    }
   ],
   "source": [
    "model_names = ['BCC-CSM2-MR','INM-CM4-8','INM-CM5-0','MIROC6','MPI-ESM-1-2-HAM','MPI-ESM1-2-HR','MPI-ESM1-2-LR','MRI-ESM2-0']\n",
    "directory='/OWC/huiyu/CMIP6/vertical_CRH'\n",
    "for model_name in model_names:\n",
    "    print(model_name)\n",
    "    \n",
    "    # Use glob to find the files matching the pattern\n",
    "    rlu_file = glob.glob(os.path.join(directory, 'combined', f'rlu_CFmon_{model_name}_amip_*.nc'))[0]\n",
    "    rlucs_file = glob.glob(os.path.join(directory, 'combined', f'rlucs_CFmon_{model_name}_amip_*.nc'))[0]\n",
    "    rld_file = glob.glob(os.path.join(directory, 'combined', f'rld_CFmon_{model_name}_amip_*.nc'))[0]\n",
    "    rldcs_file = glob.glob(os.path.join(directory, 'combined', f'rldcs_CFmon_{model_name}_amip_*.nc'))[0]\n",
    "\n",
    "    rlu = xr.open_dataset(rlu_file)\n",
    "    rlucs = xr.open_dataset(rlucs_file)\n",
    "    rld = xr.open_dataset(rld_file)\n",
    "    rldcs = xr.open_dataset(rldcs_file)\n",
    "\n",
    "    acre = rld[\"rld\"] - rldcs[\"rldcs\"] - rlu[\"rlu\"] + rlucs[\"rlucs\"]\n",
    "\n",
    "    acre_ds = rld.copy()\n",
    "    acre_ds[\"acre\"] = acre\n",
    "    acre_ds = acre_ds.drop_vars([\"rld\"])\n",
    "    acre_ds.to_netcdf(os.path.join(directory, 'combined', f'combined_fluxes_{model_name}.nc'))"
   ]
  },
  {
   "cell_type": "markdown",
   "metadata": {},
   "source": [
    "Define functions"
   ]
  },
  {
   "cell_type": "code",
   "execution_count": 4,
   "metadata": {},
   "outputs": [],
   "source": [
    "def identify_model_level_type(nc_file):\n",
    "    \"\"\"\n",
    "    Identify the model vertical level type from a NetCDF file.\n",
    "    \n",
    "    Parameters:\n",
    "    -----------\n",
    "    nc_file : str\n",
    "        Path to the NetCDF file to be opened.\n",
    "\n",
    "    Returns:\n",
    "    --------\n",
    "    tuple\n",
    "        A tuple containing the standard name and units of the vertical level variable.\n",
    "        Returns values for one of 'lev', 'presnivs', or 'plev' if found.\n",
    "    \"\"\"\n",
    "    ds = xr.open_dataset(nc_file)\n",
    "    if 'lev' in ds.variables:\n",
    "        return ds.lev.standard_name\n",
    "    elif 'presnivs' in ds.variables:\n",
    "        return ds.presnivs.standard_name\n",
    "    elif 'plev' in ds.variables:\n",
    "        return ds.plev.standard_name"
   ]
  },
  {
   "cell_type": "code",
   "execution_count": 3,
   "metadata": {},
   "outputs": [],
   "source": [
    "def define_targetlevels():\n",
    "    \"\"\" Defines the pressure levels for the interpolation. \"\"\"\n",
    "    import numpy as _np\n",
    "    return _np.arange(1000e2, 0, -25e2)"
   ]
  },
  {
   "cell_type": "code",
   "execution_count": 21,
   "metadata": {},
   "outputs": [],
   "source": [
    "def height_to_pressure(ds):\n",
    "    \"\"\"\n",
    "    Converts model height coordinates (unit: m) to pressure coordinates,\n",
    "    computes zonal mean, removes invalid levels (with NaNs),\n",
    "    and interpolates onto standard pressure levels.\n",
    "\n",
    "    Parameters:\n",
    "    -----------\n",
    "    filename : str\n",
    "        Path to the NetCDF file containing a dataset with height-based 'lev' coordinate.\n",
    "\n",
    "    Returns:\n",
    "    --------\n",
    "    xarray.Dataset\n",
    "        Dataset with 'lev' now representing pressure levels and interpolated to standard levels.\n",
    "    \"\"\"\n",
    "    #ds = xr.open_dataset(filename)\n",
    "    pressure_lev = height2pressure(ds.lev.values)\n",
    "    ds = ds.assign_coords(pressure_lev=(\"lev\", pressure_lev)).swap_dims({\"lev\":\"pressure_lev\"}).drop_vars(\"lev\")\n",
    "    ds = ds.rename({\"pressure_lev\": \"lev\"})\n",
    "    zonal_mean_ds = ds.mean(dim=\"lon\")\n",
    "    # Remove levels with NaNs\n",
    "    valid_lev = zonal_mean_ds['lev'].where(~np.isnan(zonal_mean_ds['lev']), drop=True)\n",
    "    indices = [i for i, lev_value in enumerate(zonal_mean_ds['lev'].values) if lev_value in valid_lev]\n",
    "    zonal_mean_ds = zonal_mean_ds.isel(lev=indices)\n",
    "    # Interpolate to standard pressure levels\n",
    "    zonal_mean_ds_interped = zonal_mean_ds.interp(lev=define_targetlevels())\n",
    "    return zonal_mean_ds_interped"
   ]
  },
  {
   "cell_type": "code",
   "execution_count": 22,
   "metadata": {},
   "outputs": [],
   "source": [
    "def hybrid_height_to_pressure(ds):\n",
    "    \"\"\"\n",
    "    Converts model hybrid height coordinates (unit: 1) to pressure coordinates,\n",
    "    computes zonal mean, removes invalid levels (with NaNs),\n",
    "    and interpolates onto standard pressure levels.\n",
    "\n",
    "    Parameters:\n",
    "    -----------\n",
    "    filename : str\n",
    "        Path to the NetCDF file containing a dataset with hybrid-height-based 'lev' coordinate.\n",
    "\n",
    "    Returns:\n",
    "    --------\n",
    "    xarray.Dataset\n",
    "        Dataset with 'lev' now representing pressure levels and interpolated to standard levels.\n",
    "    \"\"\"\n",
    "    #ds = xr.open_dataset(filename)\n",
    "    b = ds['b'].values.reshape(-1, 1, 1)  # Reference pressure (scalar)\n",
    "    orog = ds['orog'].values\n",
    "    sigma = ds['lev'].values.reshape(-1, 1, 1)  # Reshape to (lev, 1, 1)\n",
    "    height_levels = sigma + b*orog[np.newaxis, :, :]\n",
    "    pressure_lev = height2pressure(height_levels)\n",
    "    ds = ds.assign_coords(pressure_lev=(\"lev\", pressure_lev)).swap_dims({\"lev\":\"pressure_lev\"}).drop_vars(\"lev\")\n",
    "    ds = ds.rename({\"pressure_lev\": \"lev\"})\n",
    "    zonal_mean_ds = ds.mean(dim=\"lon\")\n",
    "    # Remove levels with NaNs\n",
    "    valid_lev = zonal_mean_ds['lev'].where(~np.isnan(zonal_mean_ds['lev']), drop=True)\n",
    "    indices = [i for i, lev_value in enumerate(zonal_mean_ds['lev'].values) if lev_value in valid_lev]\n",
    "    zonal_mean_ds = zonal_mean_ds.isel(lev=indices)\n",
    "    # Interpolate to standard pressure levels\n",
    "    zonal_mean_ds_interped = zonal_mean_ds.interp(lev=define_targetlevels())\n",
    "    return zonal_mean_ds_interped"
   ]
  },
  {
   "cell_type": "code",
   "execution_count": 23,
   "metadata": {},
   "outputs": [],
   "source": [
    "def model_level_to_pressure(ds):\n",
    "    \"\"\"\n",
    "    Converts model \"atmospheric_hybrid_sigma_pressure_coordiante\" (unit: 1) or \"atmospheric_hybrid_sigma_coordiante\" to pressure coordinates,\n",
    "    computes zonal mean, removes invalid levels (with NaNs),\n",
    "    and interpolates onto standard pressure levels.\n",
    "\n",
    "    Parameters:\n",
    "    -----------\n",
    "    filename : str\n",
    "        Path to the NetCDF file containing a dataset with height-based 'lev' coordinate.\n",
    "\n",
    "    Returns:\n",
    "    --------\n",
    "    xarray.Dataset\n",
    "        Dataset with 'lev' now representing pressure levels and interpolated to standard levels.\n",
    "    \"\"\"\n",
    "\n",
    "    if 'ap' in ds.variables:\n",
    "        ap = ds['ap'].values.reshape(-1, 1, 1)\n",
    "        b = ds['b'].values.reshape(-1, 1, 1)  # Reshape to (lev, 1, 1)\n",
    "        ps = ds['ps'].values\n",
    "        pressure_levels = ap + b * ps[:, np.newaxis, :, :]  \n",
    "    else:\n",
    "        p0 = ds['p0'].values  # Reference pressure (scalar)\n",
    "        a = ds['a'].values.reshape(-1, 1, 1)  # Reshape to (lev, 1, 1)\n",
    "        b = ds['b'].values.reshape(-1, 1, 1)  # Reshape to (lev, 1, 1)\n",
    "        ps = ds['ps'].values\n",
    "        pressure_levels = a * p0 + b * ps[:, np.newaxis, :, :]\n",
    "    averaged_pressure_lev = np.mean(pressure_levels, axis=(0, 2, 3))\n",
    "    ds = ds.assign_coords(pressure_lev=(\"lev\", averaged_pressure_lev)).swap_dims({\"lev\":\"pressure_lev\"}).drop_vars(\"lev\")\n",
    "    ds = ds.rename({\"pressure_lev\": \"lev\"})\n",
    "    zonal_mean_ds = ds.mean(dim=\"lon\")\n",
    "    zonal_mean_ds_interped = zonal_mean_ds.interp(lev=define_targetlevels())\n",
    "    return zonal_mean_ds_interped"
   ]
  },
  {
   "cell_type": "markdown",
   "metadata": {},
   "source": [
    "Calculating CRH from ACRE using Eq. 8 in the supplementary materials of Liu and Grise (2025)"
   ]
  },
  {
   "cell_type": "code",
   "execution_count": null,
   "metadata": {},
   "outputs": [],
   "source": [
    "directory='/OWC/huiyu/CMIP6/vertical_CRH'\n",
    "# Constants\n",
    "g = 9.81  # gravitational acceleration in m/s^2\n",
    "cp = 1004  # specific heat capacity of air at constant pressure in J/kg/K\n",
    "seconds_in_day = 86400  # seconds in a day\n",
    "model_names = ['BCC-CSM2-MR','INM-CM4-8','INM-CM5-0','MIROC6','MPI-ESM-1-2-HAM','MPI-ESM1-2-HR','MPI-ESM1-2-LR','MRI-ESM2-0']\n",
    "for model_name in model_names:\n",
    "    print(model_name)\n",
    "    filename = directory+'/combined/combined_fluxes_'+model_name+'.nc'\n",
    "    ds = xr.open_dataset(filename, chunks={'lev': 10})\n",
    "    # Compute tendencies lazily\n",
    "    temp_tendency = -g / cp * ds['acre'].diff(dim=\"lev\") / ds['lev'].diff(dim=\"lev\")\n",
    "    temp_tendency_K_day = temp_tendency * seconds_in_day\n",
    "    ds['temp_tendency_K_day'] = temp_tendency_K_day\n",
    "    # Identify the model level type\n",
    "    level_type = identify_model_level_type(filename)\n",
    "    print(\"Level type:\", level_type)\n",
    "    if level_type == 'atmosphere_hybrid_height_coordinate':\n",
    "        ds_pressure = hybrid_height_to_pressure(ds)\n",
    "    elif level_type == 'atmosphere_height_coordinate':\n",
    "        ds_pressure = height_to_pressure(ds)\n",
    "    elif level_type == 'atmosphere_hybrid_sigma_pressure_coordinate':\n",
    "        ds_pressure = model_level_to_pressure(ds)\n",
    "    elif level_type == 'atmosphere_sigma_coordinate':\n",
    "        ds_pressure = model_level_to_pressure(ds)\n",
    "    else:\n",
    "        raise ValueError(\"Unknown model level type\")\n",
    "    \n",
    "    ds_interpolated = ds_pressure.interp(lev=define_targetlevels()).compute()\n",
    "    # Save the dataset\n",
    "    ds_interpolated.to_netcdf(directory+'/interpolated/'+model_name+'_CRH_interpolated_zonalmean.nc')"
   ]
  }
 ],
 "metadata": {
  "kernelspec": {
   "display_name": "isca_env",
   "language": "python",
   "name": "isca_env"
  },
  "language_info": {
   "codemirror_mode": {
    "name": "ipython",
    "version": 3
   },
   "file_extension": ".py",
   "mimetype": "text/x-python",
   "name": "python",
   "nbconvert_exporter": "python",
   "pygments_lexer": "ipython3",
   "version": "3.12.1"
  }
 },
 "nbformat": 4,
 "nbformat_minor": 2
}
