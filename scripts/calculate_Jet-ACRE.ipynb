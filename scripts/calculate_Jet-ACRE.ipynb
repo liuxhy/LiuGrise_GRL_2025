{
 "cells": [
  {
   "cell_type": "markdown",
   "metadata": {},
   "source": [
    "#### This notebook calculates Jet-ACRE values of AMIP runs for each model"
   ]
  },
  {
   "cell_type": "code",
   "execution_count": 2,
   "metadata": {},
   "outputs": [],
   "source": [
    "import pandas as pd\n",
    "import numpy as np\n",
    "import xarray as xr\n",
    "from sklearn.decomposition import PCA\n",
    "import os\n",
    "import pickle"
   ]
  },
  {
   "cell_type": "code",
   "execution_count": 11,
   "metadata": {},
   "outputs": [],
   "source": [
    "save_directory = '../data'\n",
    "with open(os.path.join(save_directory, 'sam_models_monthly_2000_2014.pkl'), 'rb') as file:\n",
    "    sam_models_monthly = pickle.load(file)\n",
    "\n",
    "with open(os.path.join(save_directory, 'climatological_jet_lat_models_monthly_2000_2014.pkl'), 'rb') as file:\n",
    "    climatological_jet_lat_models_monthly = pickle.load(file)"
   ]
  },
  {
   "cell_type": "code",
   "execution_count": null,
   "metadata": {},
   "outputs": [],
   "source": [
    "from scipy.stats import linregress\n",
    "directory = '/bjerknes_raid5/CMIP6_xl7pd/amip_monthly/longwave/ACRE'\n",
    "file_list = os.listdir(directory)\n",
    "jet_ACRE_index_models = {}\n",
    "for file in file_list:\n",
    "    file_name = os.path.join(directory, file)\n",
    "    model_name = file.split('.')[2]\n",
    "    \n",
    "    if model_name in sam_models_monthly.keys():\n",
    "        print(model_name)\n",
    "        dataset = xr.open_dataset(file_name).sel(time=slice('2000', '2014'))\n",
    "        dayofyear_mean = dataset.groupby('time.dayofyear').mean(dim='time')\n",
    "        # Broadcast and subtract the mean from the original dataset\n",
    "        anomaly = dataset.groupby('time.dayofyear') - dayofyear_mean\n",
    "        latitudes = dataset.variables['lat'][:]\n",
    "        acre_data = np.squeeze(anomaly.variables['ACRE'][:])\n",
    "\n",
    "        regression_coeffs = np.zeros(len(latitudes))\n",
    "\n",
    "        for i, lat in enumerate(latitudes):\n",
    "            if lat < 0:\n",
    "                acre_data_lat_mean = np.nanmean(acre_data[:, i, :], axis=1)\n",
    "                df = pd.DataFrame({\n",
    "                    'sam index': sam_models_monthly[model_name],\n",
    "                    'acre_data_lat_mean': acre_data_lat_mean\n",
    "                }).dropna()\n",
    "\n",
    "                if len(df) > 1:\n",
    "                    slope, _, _, _, _ = linregress((df['sam index'] - df['sam index'].mean())/df['sam index'].std(), df['acre_data_lat_mean'])\n",
    "                    regression_coeffs[i] = slope\n",
    "                else:\n",
    "                    regression_coeffs[i] = np.nan\n",
    "        jet_ACRE_index_models[model_name] = regression_coeffs"
   ]
  },
  {
   "cell_type": "code",
   "execution_count": null,
   "metadata": {},
   "outputs": [],
   "source": [
    "with open(os.path.join(save_directory, 'SAM_ACRE_index_models_monthly.pkl'), 'wb') as f:\n",
    "    pickle.dump(jet_ACRE_index_models, f)"
   ]
  }
 ],
 "metadata": {
  "kernelspec": {
   "display_name": "isca_env",
   "language": "python",
   "name": "python3"
  },
  "language_info": {
   "codemirror_mode": {
    "name": "ipython",
    "version": 3
   },
   "file_extension": ".py",
   "mimetype": "text/x-python",
   "name": "python",
   "nbconvert_exporter": "python",
   "pygments_lexer": "ipython3",
   "version": "3.12.1"
  }
 },
 "nbformat": 4,
 "nbformat_minor": 2
}
